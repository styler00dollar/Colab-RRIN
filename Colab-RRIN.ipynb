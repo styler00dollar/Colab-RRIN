{
  "nbformat": 4,
  "nbformat_minor": 0,
  "metadata": {
    "colab": {
      "name": "Colab-RRIN.ipynb",
      "provenance": [],
      "private_outputs": true,
      "collapsed_sections": []
    },
    "kernelspec": {
      "name": "python3",
      "display_name": "Python 3"
    },
    "accelerator": "GPU"
  },
  "cells": [
    {
      "cell_type": "markdown",
      "metadata": {
        "id": "voer8pUWbMd4",
        "colab_type": "text"
      },
      "source": [
        "# Colab-RRIN\n",
        "\n",
        "This colab uses [HopLee6/RRIN](https://github.com/HopLee6/RRIN).\n",
        "\n",
        "My fork is located in [styler00dollar/Colab-RRIN](https://github.com/styler00dollar/Colab-RRIN).\n",
        "\n",
        "Currently this colab is just a demo to show one interpolated frame between two frames."
      ]
    },
    {
      "cell_type": "code",
      "metadata": {
        "id": "UEKYamhYY7Ne",
        "colab_type": "code",
        "cellView": "form",
        "colab": {}
      },
      "source": [
        "#@title Install\n",
        "%cd /content/\n",
        "!git clone https://github.com/HopLee6/RRIN.git\n",
        "%cd /content/RRIN/data/\n",
        "!pip install gdown\n",
        "!gdown --id 17dqgaPfPAI8btCm7gCOQwEyusMHgGkhA"
      ],
      "execution_count": null,
      "outputs": []
    },
    {
      "cell_type": "markdown",
      "metadata": {
        "id": "Sz2r7Z3cZo_j",
        "colab_type": "text"
      },
      "source": [
        "Place frames ```im1.png``` and ```im2.png``` in ```/content/RRIN/data```. The result will be in the same folder."
      ]
    },
    {
      "cell_type": "code",
      "metadata": {
        "id": "5fXNssjlalJA",
        "colab_type": "code",
        "cellView": "form",
        "colab": {}
      },
      "source": [
        "#@title Fixing paths in demo.py\n",
        "%%writefile /content/RRIN/demo.py\n",
        "import argparse\n",
        "import torch\n",
        "import torchvision\n",
        "from torchvision import transforms\n",
        "from PIL import Image\n",
        "from model import Net\n",
        "import numpy as np\n",
        "\n",
        "torch.backends.cudnn.benchmark = True\n",
        "torch.backends.cudnn.fastest = True\n",
        "\n",
        "def main():\n",
        "    parser = argparse.ArgumentParser(description='PyTorch Video Frame Interpolation via Residue Refinement')\n",
        "    parser.add_argument('--no-cuda', action='store_true', default=False,\n",
        "                        help='disables CUDA training')\n",
        "\n",
        "    args = parser.parse_args()\n",
        "    use_cuda = not args.no_cuda and torch.cuda.is_available()\n",
        "\n",
        "    transform = transforms.ToTensor()\n",
        "\n",
        "    model = Net()\n",
        "    state = torch.load('/content/RRIN/data/pretrained_model.pth.tar')\n",
        "    model.load_state_dict(state,strict=True)\n",
        "    model = model.cuda()\n",
        "    model.eval()\n",
        "\n",
        "    im1_path = '/content/RRIN/data/im1.png'\n",
        "    im2_path = '/content/RRIN/data/im2.png'\n",
        "\n",
        "    with torch.no_grad():\n",
        "\n",
        "        img1 = Image.open(im1_path)\n",
        "        img2 = Image.open(im2_path)\n",
        "\n",
        "        img1 = transform(img1).unsqueeze(0).cuda()\n",
        "        img2 = transform(img2).unsqueeze(0).cuda()\n",
        "        \n",
        "        if img1.size(1)==1:\n",
        "            img1 = img1.expand(-1, 3,-1,-1)\n",
        "            img2 = img2.expand(-1, 3,-1,-1)\n",
        "            \n",
        "        _,_,H,W = img1.size()\n",
        "        H_,W_ = int(np.ceil(H/32)*32),int(np.ceil(W/32)*32)\n",
        "        pader = torch.nn.ReplicationPad2d([0, W_-W , 0, H_-H])\n",
        "        img1,img2 = pader(img1),pader(img2)\n",
        "        \n",
        "        output = model(img1, img2)\n",
        "        output = output[0,:,0:H,0:W].squeeze(0).cpu()\n",
        "        output = transforms.functional.to_pil_image(output)\n",
        "        output.save('data/im_interp.png')\n",
        "\n",
        "if __name__ == '__main__':\n",
        "    main()\n"
      ],
      "execution_count": null,
      "outputs": []
    },
    {
      "cell_type": "code",
      "metadata": {
        "id": "NWCquT0fZhfR",
        "colab_type": "code",
        "cellView": "form",
        "colab": {}
      },
      "source": [
        "#@title Running Interpolation\n",
        "!python /content/RRIN/demo.py"
      ],
      "execution_count": null,
      "outputs": []
    }
  ]
}